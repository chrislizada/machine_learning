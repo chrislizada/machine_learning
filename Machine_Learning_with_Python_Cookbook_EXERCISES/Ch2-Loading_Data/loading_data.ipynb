{
 "cells": [
  {
   "cell_type": "code",
   "execution_count": null,
   "id": "4f2086bb",
   "metadata": {},
   "outputs": [
    {
     "data": {
      "text/plain": [
       "array([ 0.,  0.,  5., 13.,  9.,  1.,  0.,  0.,  0.,  0., 13., 15., 10.,\n",
       "       15.,  5.,  0.,  0.,  3., 15.,  2.,  0., 11.,  8.,  0.,  0.,  4.,\n",
       "       12.,  0.,  0.,  8.,  8.,  0.,  0.,  5.,  8.,  0.,  0.,  9.,  8.,\n",
       "        0.,  0.,  4., 11.,  0.,  1., 12.,  7.,  0.,  0.,  2., 14.,  5.,\n",
       "       10., 12.,  0.,  0.,  0.,  0.,  6., 13., 10.,  0.,  0.,  0.])"
      ]
     },
     "execution_count": 7,
     "metadata": {},
     "output_type": "execute_result"
    }
   ],
   "source": [
    "# 2.1 Loading a Sample Dataset\n",
    "from sklearn import datasets\n",
    "\n",
    "digits = datasets.load_digits()\n",
    "features = digits.data\n",
    "target = digits.target\n",
    "\n",
    "features[0]"
   ]
  },
  {
   "cell_type": "code",
   "execution_count": 8,
   "id": "64d809b0",
   "metadata": {},
   "outputs": [
    {
     "name": "stdout",
     "output_type": "stream",
     "text": [
      "Feature Matrix\n",
      " [[ 1.29322588 -0.61736206 -0.11044703]\n",
      " [-2.793085    0.36633201  1.93752881]\n",
      " [ 0.80186103 -0.18656977  0.0465673 ]]\n",
      "target Vector\n",
      " [-10.37865986  25.5124503   19.67705609]\n"
     ]
    }
   ],
   "source": [
    "# 2.2 Creating a Simulated Dataset\n",
    "from sklearn.datasets import make_regression\n",
    "\n",
    "features, target, coefficients = make_regression(n_samples=100,\n",
    "                                                 n_features=3,\n",
    "                                                 n_informative=3,\n",
    "                                                 n_targets=1,\n",
    "                                                 noise=0,\n",
    "                                                 coef=True,\n",
    "                                                 random_state=1)\n",
    "\n",
    "print('Feature Matrix\\n', features[:3])\n",
    "print('target Vector\\n', target[:3])"
   ]
  },
  {
   "cell_type": "code",
   "execution_count": 12,
   "id": "9ee6ae95",
   "metadata": {},
   "outputs": [
    {
     "name": "stdout",
     "output_type": "stream",
     "text": [
      "Feature Matrix\n",
      " [[ 1.06354768 -1.42632219  1.02163151]\n",
      " [ 0.23156977  1.49535261  0.33251578]\n",
      " [ 0.15972951  0.83533515 -0.40869554]]\n",
      "Target Vector\n",
      " [1 0 0]\n"
     ]
    }
   ],
   "source": [
    "from sklearn.datasets import make_classification\n",
    "\n",
    "features, targets = make_classification(n_samples=100,\n",
    "                                        n_features=3,\n",
    "                                        n_informative=3,\n",
    "                                        n_redundant=0,\n",
    "                                        n_classes=2,\n",
    "                                        weights=[.25, .75],\n",
    "                                        random_state=1)\n",
    "print('Feature Matrix\\n', features[:3])\n",
    "print('Target Vector\\n', targets[:3])"
   ]
  },
  {
   "cell_type": "code",
   "execution_count": null,
   "id": "0c419593",
   "metadata": {},
   "outputs": [],
   "source": [
    "# Querying a SQLite Database\n",
    "import pandas as pd\n",
    "from sqlalchemy import create_engine\n",
    "\n",
    "database_connection = create_engine('sqlite:///sample.db')\n",
    "\n",
    "dataframe = pd.read_sql_query('SELECT * FROM data', database_connection)\n",
    "\n",
    "dataframe.head(2)"
   ]
  },
  {
   "cell_type": "code",
   "execution_count": null,
   "id": "0d7f392d",
   "metadata": {},
   "outputs": [],
   "source": [
    "# Querying a Remote SQL Database\n",
    "import pymysql\n",
    "import pandas as pd\n",
    "\n",
    "conn = pymysql.connect(\n",
    "    host='localhost',\n",
    "    user='root',\n",
    "    password='',\n",
    "    db='db'\n",
    ")\n",
    "\n",
    "dataframe = pd.read_sql(\"SELECT * from data\", conn)\n",
    "\n",
    "dataframe.head(2)"
   ]
  },
  {
   "cell_type": "code",
   "execution_count": 14,
   "id": "66e87e8e",
   "metadata": {},
   "outputs": [
    {
     "name": "stdout",
     "output_type": "stream",
     "text": [
      "Hello there!\n"
     ]
    }
   ],
   "source": [
    "import requests\n",
    "\n",
    "txt_url = 'https://machine-learning-python-cookbook.s3.amazonaws.com/text.txt'\n",
    "\n",
    "r = requests.get(txt_url)\n",
    "\n",
    "with open('text.txt', 'wb') as f:\n",
    "    f.write(r.content)\n",
    "\n",
    "with open('text.txt', 'r') as f:\n",
    "    text = f.read()\n",
    "\n",
    "print(text)"
   ]
  }
 ],
 "metadata": {
  "kernelspec": {
   "display_name": "Python 3",
   "language": "python",
   "name": "python3"
  },
  "language_info": {
   "codemirror_mode": {
    "name": "ipython",
    "version": 3
   },
   "file_extension": ".py",
   "mimetype": "text/x-python",
   "name": "python",
   "nbconvert_exporter": "python",
   "pygments_lexer": "ipython3",
   "version": "3.12.8"
  }
 },
 "nbformat": 4,
 "nbformat_minor": 5
}
